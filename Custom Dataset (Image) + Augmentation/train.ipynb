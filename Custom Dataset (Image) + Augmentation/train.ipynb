{
 "cells": [
  {
   "cell_type": "markdown",
   "id": "74dc9a4c",
   "metadata": {},
   "source": [
    "import"
   ]
  },
  {
   "cell_type": "code",
   "execution_count": 4,
   "id": "eaa488a7",
   "metadata": {},
   "outputs": [],
   "source": [
    "import torch\n",
    "import torch.nn as nn\n",
    "import torch.optim as optim\n",
    "from torch.utils.data import DataLoader\n",
    "import torchvision.datasets as datasets\n",
    "import torchvision.transforms as transforms"
   ]
  },
  {
   "cell_type": "markdown",
   "id": "592aeccf",
   "metadata": {},
   "source": [
    "Device"
   ]
  },
  {
   "cell_type": "code",
   "execution_count": 5,
   "id": "0c07f696",
   "metadata": {},
   "outputs": [],
   "source": [
    "device = torch.device('cuda' if torch.cuda.is_available() else 'cpu')"
   ]
  },
  {
   "cell_type": "markdown",
   "id": "12448e97",
   "metadata": {},
   "source": [
    "Hyperparameters"
   ]
  },
  {
   "cell_type": "code",
   "execution_count": 15,
   "id": "60a135a9",
   "metadata": {},
   "outputs": [],
   "source": [
    "in_channels = 3\n",
    "num_classes = 3\n",
    "learning_rate = 0.001\n",
    "batch_size = 4\n",
    "num_epochs = 5"
   ]
  },
  {
   "cell_type": "markdown",
   "id": "96bba2af",
   "metadata": {},
   "source": [
    "Load Custom Data"
   ]
  },
  {
   "cell_type": "code",
   "execution_count": 16,
   "id": "d5ed4fcc",
   "metadata": {},
   "outputs": [
    {
     "name": "stdout",
     "output_type": "stream",
     "text": [
      "Class Name:  ['cats', 'dogs']\n",
      "Class to index mapping:  {'cats': 0, 'dogs': 1}\n",
      "Train batch - images shape: torch.Size([4, 3, 224, 224])\n",
      "Train batch - labels: tensor([0, 1, 1, 0])\n",
      "Test batch - images shape: torch.Size([4, 3, 224, 224])\n",
      "Test batch - labels: tensor([1, 0, 0, 1])\n"
     ]
    }
   ],
   "source": [
    "import os\n",
    "import torch\n",
    "from torchvision import datasets, transforms\n",
    "from torch.utils.data import DataLoader, random_split\n",
    "\n",
    "#1.Configuration\n",
    "root_dir = r\"C:\\Users\\ninad\\Desktop\\Deep Learning\\Custom Dataset (Image)\\cats_dogs_resized\"\n",
    "image_size = (224,224)\n",
    "train_test_split_ratio = 0.8\n",
    "\n",
    "#2.Define Transforms\n",
    "\n",
    "transform = transforms.Compose([\n",
    "    transforms.Resize(image_size),\n",
    "    transforms.ToTensor(),\n",
    "    transforms.Normalize(mean=[0.5]*3, std=[0.5]*3)\n",
    "])\n",
    "\n",
    "#3.Load Dataset from Folder\n",
    "dataset = datasets.ImageFolder(root=root_dir, transform=transform)\n",
    "\n",
    "#Print Classes\n",
    "print(\"Class Name: \", dataset.classes)\n",
    "print(\"Class to index mapping: \", dataset.class_to_idx)\n",
    "\n",
    "#5.Split Dataset\n",
    "train_size = int(train_test_split_ratio * len(dataset))\n",
    "test_size = len(dataset) - train_size\n",
    "train_dataset, test_dataset = random_split(dataset, [train_size, test_size])\n",
    "\n",
    "#6.Create DataLoaders\n",
    "train_loader = DataLoader(train_dataset, batch_size=batch_size, shuffle=True)\n",
    "test_loader = DataLoader(test_dataset, batch_size=batch_size, shuffle=False)\n",
    "\n",
    "for images, labels in train_loader:\n",
    "    print(\"Train batch - images shape:\", images.shape)  # [4, 3, 224, 224]\n",
    "    print(\"Train batch - labels:\", labels)              # tensor([0, 1, ...])\n",
    "    break\n",
    "\n",
    "for images, labels in test_loader:\n",
    "    print(\"Test batch - images shape:\", images.shape)\n",
    "    print(\"Test batch - labels:\", labels)\n",
    "    break"
   ]
  },
  {
   "cell_type": "markdown",
   "id": "a2afde41",
   "metadata": {},
   "source": [
    "Create Fully Connected Network"
   ]
  },
  {
   "cell_type": "code",
   "execution_count": 23,
   "id": "202d7399",
   "metadata": {},
   "outputs": [],
   "source": [
    "class CNN(nn.Module):\n",
    "    def __init__(self, in_channels=3,num_classes=2):\n",
    "        super(CNN, self).__init__()\n",
    "        \n",
    "        self.layer1 = nn.Sequential(\n",
    "            nn.Conv2d(in_channels, out_channels=16, kernel_size=3, stride=1, padding=1),\n",
    "            nn.ReLU(),\n",
    "            nn.MaxPool2d(kernel_size=2, stride=2)\n",
    "        )\n",
    "        self.layer2 = nn.Sequential(\n",
    "            nn.Conv2d(in_channels=16, out_channels=32 ,kernel_size=3, stride=1, padding=1), #32x112x112\n",
    "            nn.ReLU(),\n",
    "            nn.MaxPool2d(kernel_size=2, stride=2) #32x56x56\n",
    "        )\n",
    "\n",
    "        self.flattened_size = 32*56*56\n",
    "\n",
    "        self.fc = nn.Sequential(\n",
    "            nn.Linear(in_features=self.flattened_size, out_features=128),\n",
    "            nn.ReLU(),\n",
    "            nn.Linear(128, num_classes)\n",
    "        )\n",
    "\n",
    "    def forward(self, x):\n",
    "        x = self.layer1(x)\n",
    "        x = self.layer2(x)\n",
    "        x = x.view(x.size(0), -1)\n",
    "        x = self.fc(x)\n",
    "\n",
    "        return x"
   ]
  },
  {
   "cell_type": "markdown",
   "id": "0a8cc6b2",
   "metadata": {},
   "source": [
    "Save and Load function"
   ]
  },
  {
   "cell_type": "markdown",
   "id": "8b8d40f5",
   "metadata": {},
   "source": [
    "Initialize Model"
   ]
  },
  {
   "cell_type": "code",
   "execution_count": 24,
   "id": "8060f963",
   "metadata": {},
   "outputs": [],
   "source": [
    "model = CNN(in_channels=in_channels, num_classes=num_classes).to(device=device)"
   ]
  },
  {
   "cell_type": "markdown",
   "id": "d03cdd93",
   "metadata": {},
   "source": [
    "Loss and Optimizer"
   ]
  },
  {
   "cell_type": "code",
   "execution_count": 25,
   "id": "5528e18c",
   "metadata": {},
   "outputs": [],
   "source": [
    "criterion = nn.CrossEntropyLoss()\n",
    "optimizer = optim.Adam(model.parameters(), lr=learning_rate)"
   ]
  },
  {
   "cell_type": "code",
   "execution_count": 26,
   "id": "71983251",
   "metadata": {},
   "outputs": [
    {
     "name": "stdout",
     "output_type": "stream",
     "text": [
      "Epoch [1/5], Step [1/3], Loss: 1.2072\n",
      "Epoch [1/5], Step [2/3], Loss: 9.0139\n",
      "Epoch [1/5], Step [3/3], Loss: 3.0769\n",
      "Epoch [2/5], Step [1/3], Loss: 2.0821\n",
      "Epoch [2/5], Step [2/3], Loss: 0.7111\n",
      "Epoch [2/5], Step [3/3], Loss: 0.5237\n",
      "Epoch [3/5], Step [1/3], Loss: 0.5370\n",
      "Epoch [3/5], Step [2/3], Loss: 0.9993\n",
      "Epoch [3/5], Step [3/3], Loss: 0.5220\n",
      "Epoch [4/5], Step [1/3], Loss: 0.4702\n",
      "Epoch [4/5], Step [2/3], Loss: 0.4267\n",
      "Epoch [4/5], Step [3/3], Loss: 0.3850\n",
      "Epoch [5/5], Step [1/3], Loss: 0.4106\n",
      "Epoch [5/5], Step [2/3], Loss: 0.4048\n",
      "Epoch [5/5], Step [3/3], Loss: 0.3370\n"
     ]
    }
   ],
   "source": [
    "total_step = len(train_loader)\n",
    "\n",
    "for epoch in range(num_epochs):\n",
    "    losses = []\n",
    "        \n",
    "    for batch_idx, (data, target) in enumerate(train_loader):\n",
    "        # Move data and target to the correct device (CPU or GPU)\n",
    "        data = data.to(device)\n",
    "        target = target.to(device)\n",
    "\n",
    "        # Forward pass\n",
    "        scores = model(data)\n",
    "        loss = criterion(scores, target)\n",
    "        losses.append(loss.item())\n",
    "        # Backward pass and optimization\n",
    "        optimizer.zero_grad()\n",
    "        loss.backward()\n",
    "        optimizer.step()\n",
    "\n",
    "        # Print training information\n",
    "        print(f\"Epoch [{epoch+1}/{num_epochs}], Step [{batch_idx+1}/{total_step}], Loss: {loss.item():.4f}\")"
   ]
  },
  {
   "cell_type": "code",
   "execution_count": 31,
   "id": "a4b29878",
   "metadata": {},
   "outputs": [],
   "source": [
    "def evaluate(loader, model, device):\n",
    "    # Custom label to detect if it's train or test loader\n",
    "    is_train = hasattr(loader.dataset, 'dataset') and loader.dataset.dataset == train_dataset\n",
    "\n",
    "    print(\"Checking accuracy on {} data\".format(\"training\" if is_train else \"test\"))\n",
    "\n",
    "    num_correct = 0\n",
    "    num_samples = 0\n",
    "    model.eval()\n",
    "\n",
    "    with torch.no_grad():\n",
    "        for x, y in loader:\n",
    "            x = x.to(device)\n",
    "            y = y.to(device)\n",
    "\n",
    "            scores = model(x)\n",
    "            _, preds = scores.max(1)\n",
    "\n",
    "            num_correct += (preds == y).sum().item()  # .item() to get scalar\n",
    "            num_samples += preds.size(0)\n",
    "\n",
    "    accuracy = 100.0 * num_correct / num_samples\n",
    "    print(f'Accuracy: {num_correct}/{num_samples} = {accuracy:.2f}%')\n",
    "\n",
    "    model.train()\n",
    "    return accuracy"
   ]
  },
  {
   "cell_type": "code",
   "execution_count": 32,
   "id": "5b2f90ad",
   "metadata": {},
   "outputs": [
    {
     "name": "stdout",
     "output_type": "stream",
     "text": [
      "Checking accuracy on test data\n",
      "Accuracy: 12/12 = 100.00%\n",
      "Checking accuracy on test data\n",
      "Accuracy: 3/4 = 75.00%\n"
     ]
    },
    {
     "data": {
      "text/plain": [
       "75.0"
      ]
     },
     "execution_count": 32,
     "metadata": {},
     "output_type": "execute_result"
    }
   ],
   "source": [
    "evaluate(train_loader, model, device)\n",
    "evaluate(test_loader, model, device)"
   ]
  },
  {
   "cell_type": "code",
   "execution_count": null,
   "id": "de5ffdea",
   "metadata": {},
   "outputs": [],
   "source": []
  }
 ],
 "metadata": {
  "kernelspec": {
   "display_name": "Python 3",
   "language": "python",
   "name": "python3"
  },
  "language_info": {
   "codemirror_mode": {
    "name": "ipython",
    "version": 3
   },
   "file_extension": ".py",
   "mimetype": "text/x-python",
   "name": "python",
   "nbconvert_exporter": "python",
   "pygments_lexer": "ipython3",
   "version": "3.12.0"
  }
 },
 "nbformat": 4,
 "nbformat_minor": 5
}
